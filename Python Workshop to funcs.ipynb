{
 "cells": [
  {
   "cell_type": "code",
   "execution_count": 1,
   "id": "af3fb99e",
   "metadata": {},
   "outputs": [],
   "source": [
    "name = \"Ahmed\"\n",
    "age = 10\n",
    "x = 10.5 \n"
   ]
  },
  {
   "cell_type": "code",
   "execution_count": 2,
   "id": "01faf877",
   "metadata": {},
   "outputs": [
    {
     "name": "stdout",
     "output_type": "stream",
     "text": [
      "Ahmed\n"
     ]
    }
   ],
   "source": [
    "print(name)"
   ]
  },
  {
   "cell_type": "code",
   "execution_count": 3,
   "id": "7adb2fb2",
   "metadata": {},
   "outputs": [
    {
     "data": {
      "text/plain": [
       "int"
      ]
     },
     "execution_count": 3,
     "metadata": {},
     "output_type": "execute_result"
    }
   ],
   "source": [
    "type(age)"
   ]
  },
  {
   "cell_type": "code",
   "execution_count": 4,
   "id": "f95f7e7f",
   "metadata": {},
   "outputs": [
    {
     "data": {
      "text/plain": [
       "float"
      ]
     },
     "execution_count": 4,
     "metadata": {},
     "output_type": "execute_result"
    }
   ],
   "source": [
    "type(x)"
   ]
  },
  {
   "cell_type": "code",
   "execution_count": 5,
   "id": "a7efcbf6",
   "metadata": {},
   "outputs": [
    {
     "name": "stdout",
     "output_type": "stream",
     "text": [
      "10\n"
     ]
    },
    {
     "data": {
      "text/plain": [
       "'10'"
      ]
     },
     "execution_count": 5,
     "metadata": {},
     "output_type": "execute_result"
    }
   ],
   "source": [
    "input()"
   ]
  },
  {
   "cell_type": "code",
   "execution_count": 9,
   "id": "08747611",
   "metadata": {},
   "outputs": [
    {
     "name": "stdout",
     "output_type": "stream",
     "text": [
      "inter data: 10\n"
     ]
    }
   ],
   "source": [
    "in_ = input(\"inter data: \")"
   ]
  },
  {
   "cell_type": "code",
   "execution_count": 10,
   "id": "d3cfac45",
   "metadata": {},
   "outputs": [
    {
     "data": {
      "text/plain": [
       "'10'"
      ]
     },
     "execution_count": 10,
     "metadata": {},
     "output_type": "execute_result"
    }
   ],
   "source": [
    "in_"
   ]
  },
  {
   "cell_type": "code",
   "execution_count": 11,
   "id": "c27a743d",
   "metadata": {},
   "outputs": [
    {
     "data": {
      "text/plain": [
       "str"
      ]
     },
     "execution_count": 11,
     "metadata": {},
     "output_type": "execute_result"
    }
   ],
   "source": [
    "type(in_)"
   ]
  },
  {
   "cell_type": "code",
   "execution_count": 14,
   "id": "ef4a0612",
   "metadata": {},
   "outputs": [
    {
     "data": {
      "text/plain": [
       "int"
      ]
     },
     "execution_count": 14,
     "metadata": {},
     "output_type": "execute_result"
    }
   ],
   "source": [
    "x = \"10\"\n",
    "y = int(x)\n",
    "type(y)"
   ]
  },
  {
   "cell_type": "code",
   "execution_count": 15,
   "id": "e4465529",
   "metadata": {},
   "outputs": [
    {
     "data": {
      "text/plain": [
       "str"
      ]
     },
     "execution_count": 15,
     "metadata": {},
     "output_type": "execute_result"
    }
   ],
   "source": [
    "x = 10 \n",
    "y = str(x)\n",
    "type(y)"
   ]
  },
  {
   "cell_type": "code",
   "execution_count": 16,
   "id": "1b57ed61",
   "metadata": {},
   "outputs": [
    {
     "data": {
      "text/plain": [
       "'10'"
      ]
     },
     "execution_count": 16,
     "metadata": {},
     "output_type": "execute_result"
    }
   ],
   "source": [
    "y"
   ]
  },
  {
   "cell_type": "code",
   "execution_count": 17,
   "id": "4575bcf6",
   "metadata": {},
   "outputs": [],
   "source": [
    "x = 3 \n",
    "y = 4 \n",
    "z = 5 \n"
   ]
  },
  {
   "cell_type": "code",
   "execution_count": 18,
   "id": "019c91ec",
   "metadata": {},
   "outputs": [
    {
     "data": {
      "text/plain": [
       "[2, 3, 4, 5, 6]"
      ]
     },
     "execution_count": 18,
     "metadata": {},
     "output_type": "execute_result"
    }
   ],
   "source": [
    "lst = [2,3,4,5,6]\n",
    "lst"
   ]
  },
  {
   "cell_type": "code",
   "execution_count": 19,
   "id": "ea6d8524",
   "metadata": {},
   "outputs": [
    {
     "data": {
      "text/plain": [
       "5"
      ]
     },
     "execution_count": 19,
     "metadata": {},
     "output_type": "execute_result"
    }
   ],
   "source": [
    "lst[3]"
   ]
  },
  {
   "cell_type": "code",
   "execution_count": 20,
   "id": "85d05c37",
   "metadata": {},
   "outputs": [],
   "source": [
    "names = [\"ahmed\",'mohmmed',\"Ziad\",\"Ali\"]"
   ]
  },
  {
   "cell_type": "code",
   "execution_count": 24,
   "id": "236b9c63",
   "metadata": {},
   "outputs": [],
   "source": [
    "names.append(\"Osama\")"
   ]
  },
  {
   "cell_type": "code",
   "execution_count": 25,
   "id": "e1bb9d3e",
   "metadata": {},
   "outputs": [
    {
     "data": {
      "text/plain": [
       "['ahmed', 'mohmmed', 'Ziad', 'Ali', 'Osama']"
      ]
     },
     "execution_count": 25,
     "metadata": {},
     "output_type": "execute_result"
    }
   ],
   "source": [
    "names"
   ]
  },
  {
   "cell_type": "code",
   "execution_count": 27,
   "id": "f4365d6a",
   "metadata": {},
   "outputs": [
    {
     "data": {
      "text/plain": [
       "5"
      ]
     },
     "execution_count": 27,
     "metadata": {},
     "output_type": "execute_result"
    }
   ],
   "source": [
    "len(names)"
   ]
  },
  {
   "cell_type": "code",
   "execution_count": 28,
   "id": "8270d17b",
   "metadata": {},
   "outputs": [],
   "source": [
    "dec = {\n",
    "    \"one\":1,\n",
    "    \"second\":2,  \n",
    "}"
   ]
  },
  {
   "cell_type": "code",
   "execution_count": 30,
   "id": "58c4d14b",
   "metadata": {},
   "outputs": [
    {
     "data": {
      "text/plain": [
       "2"
      ]
     },
     "execution_count": 30,
     "metadata": {},
     "output_type": "execute_result"
    }
   ],
   "source": [
    "dec[\"second\"]"
   ]
  },
  {
   "cell_type": "code",
   "execution_count": 31,
   "id": "4610c74a",
   "metadata": {},
   "outputs": [],
   "source": [
    "data = {\n",
    "    \"name\": \"Ziad\",\n",
    "    \"phone\": \"01098\"\n",
    "}"
   ]
  },
  {
   "cell_type": "code",
   "execution_count": 32,
   "id": "404f03cd",
   "metadata": {},
   "outputs": [
    {
     "data": {
      "text/plain": [
       "'01098'"
      ]
     },
     "execution_count": 32,
     "metadata": {},
     "output_type": "execute_result"
    }
   ],
   "source": [
    "data[\"phone\"]"
   ]
  },
  {
   "cell_type": "code",
   "execution_count": 34,
   "id": "83ec779a",
   "metadata": {},
   "outputs": [
    {
     "name": "stdout",
     "output_type": "stream",
     "text": [
      "invalid data\n"
     ]
    }
   ],
   "source": [
    "x = 3 \n",
    "if x > 5 :\n",
    "    print(x) \n",
    "else:\n",
    "    print(\"invalid data\")\n",
    "    \n",
    "    "
   ]
  },
  {
   "cell_type": "code",
   "execution_count": 36,
   "id": "a27ccb1a",
   "metadata": {},
   "outputs": [
    {
     "name": "stdout",
     "output_type": "stream",
     "text": [
      "enter num: 70\n",
      "good\n"
     ]
    }
   ],
   "source": [
    "x = input(\"enter num: \")\n",
    "x = int(x)\n",
    "if x > 85 : \n",
    "    print(\"exclent\")\n",
    "elif x > 75 : \n",
    "    print(\"verry good\")\n",
    "elif x > 65 : \n",
    "    print(\"good\")\n",
    "else : \n",
    "    print(\"low grade\")\n"
   ]
  },
  {
   "cell_type": "code",
   "execution_count": 39,
   "id": "9c9ee3cd",
   "metadata": {},
   "outputs": [],
   "source": [
    "x = 90 \n",
    "if x > 65 and x < 75 : \n",
    "    print(\"good \")"
   ]
  },
  {
   "cell_type": "code",
   "execution_count": 41,
   "id": "466cccd1",
   "metadata": {},
   "outputs": [
    {
     "name": "stdout",
     "output_type": "stream",
     "text": [
      "0\n",
      "1\n",
      "2\n",
      "3\n",
      "4\n",
      "5\n",
      "6\n",
      "7\n",
      "8\n",
      "9\n"
     ]
    }
   ],
   "source": [
    "name = \"ahmed\"\n",
    "for i in range(0,10):\n",
    "    print(i)"
   ]
  },
  {
   "cell_type": "code",
   "execution_count": 42,
   "id": "deec903d",
   "metadata": {},
   "outputs": [
    {
     "name": "stdout",
     "output_type": "stream",
     "text": [
      "1\n",
      "2\n",
      "3\n",
      "4\n",
      "5\n",
      "6\n",
      "7\n",
      "8\n",
      "9\n"
     ]
    }
   ],
   "source": [
    "lst = [1,2,3,4,5,6,7,8,9]\n",
    "for i in range(0,len(lst)):\n",
    "    print(lst[i])"
   ]
  },
  {
   "cell_type": "code",
   "execution_count": 46,
   "id": "3f6fc746",
   "metadata": {},
   "outputs": [],
   "source": [
    "lst = [4,2,3,4,5,6,7,8,9]\n",
    "\n",
    "for i in range(0,len(lst)):\n",
    "    new_i = lst[i]\n",
    "    new = new_i - 3 \n",
    "    new_lst.append(new)\n",
    "    "
   ]
  },
  {
   "cell_type": "code",
   "execution_count": 44,
   "id": "b2835918",
   "metadata": {},
   "outputs": [
    {
     "data": {
      "text/plain": [
       "[-2, -1, 0, 1, 2, 3, 4, 5, 6]"
      ]
     },
     "execution_count": 44,
     "metadata": {},
     "output_type": "execute_result"
    }
   ],
   "source": [
    "new_lst"
   ]
  },
  {
   "cell_type": "code",
   "execution_count": 48,
   "id": "0bc7ba05",
   "metadata": {},
   "outputs": [],
   "source": [
    "new_lst = []\n",
    "for i in lst:\n",
    "    new = i - 3 \n",
    "    new_lst.append(new)"
   ]
  },
  {
   "cell_type": "code",
   "execution_count": 49,
   "id": "9a49131c",
   "metadata": {},
   "outputs": [
    {
     "data": {
      "text/plain": [
       "[1, -1, 0, 1, 2, 3, 4, 5, 6]"
      ]
     },
     "execution_count": 49,
     "metadata": {},
     "output_type": "execute_result"
    }
   ],
   "source": [
    "new_lst"
   ]
  },
  {
   "cell_type": "code",
   "execution_count": 51,
   "id": "3ba31cec",
   "metadata": {},
   "outputs": [
    {
     "name": "stdout",
     "output_type": "stream",
     "text": [
      "1\n",
      "3\n"
     ]
    }
   ],
   "source": [
    "print(\"1\")\n",
    "print(\"2\")\n",
    "print(\"3\")"
   ]
  },
  {
   "cell_type": "code",
   "execution_count": 55,
   "id": "21c9c07c",
   "metadata": {},
   "outputs": [],
   "source": [
    "def add():\n",
    "    x = 3 \n",
    "    y = 2\n",
    "    print(x + y)\n",
    "    "
   ]
  },
  {
   "cell_type": "code",
   "execution_count": 53,
   "id": "fbb990be",
   "metadata": {},
   "outputs": [
    {
     "name": "stdout",
     "output_type": "stream",
     "text": [
      "3\n"
     ]
    }
   ],
   "source": [
    "print(1+2)"
   ]
  },
  {
   "cell_type": "code",
   "execution_count": 56,
   "id": "c9835151",
   "metadata": {},
   "outputs": [
    {
     "name": "stdout",
     "output_type": "stream",
     "text": [
      "5\n"
     ]
    }
   ],
   "source": [
    "add()"
   ]
  },
  {
   "cell_type": "code",
   "execution_count": 57,
   "id": "24c5e04f",
   "metadata": {},
   "outputs": [
    {
     "name": "stdout",
     "output_type": "stream",
     "text": [
      "\n"
     ]
    }
   ],
   "source": [
    "print()"
   ]
  },
  {
   "cell_type": "code",
   "execution_count": 72,
   "id": "d0f9d40a",
   "metadata": {},
   "outputs": [],
   "source": [
    "def add(num_1,num_2):\n",
    "    sum = num_1 + num_2\n",
    "    print(sum)\n",
    "   "
   ]
  },
  {
   "cell_type": "code",
   "execution_count": 62,
   "id": "22200071",
   "metadata": {},
   "outputs": [
    {
     "name": "stdout",
     "output_type": "stream",
     "text": [
      "7\n"
     ]
    }
   ],
   "source": [
    "add(3,4)"
   ]
  },
  {
   "cell_type": "code",
   "execution_count": 63,
   "id": "e1a103ea",
   "metadata": {},
   "outputs": [
    {
     "name": "stdout",
     "output_type": "stream",
     "text": [
      "enter num_1 : 3\n",
      "enter num_2 : 2\n",
      "5\n"
     ]
    }
   ],
   "source": [
    "num_1 = int(input(\"enter num_1 : \"))\n",
    "num_2 = int(input(\"enter num_2 : \"))\n",
    "add(num_1,num_2)"
   ]
  },
  {
   "cell_type": "code",
   "execution_count": 71,
   "id": "923f5f1a",
   "metadata": {},
   "outputs": [
    {
     "data": {
      "text/plain": [
       "NoneType"
      ]
     },
     "execution_count": 71,
     "metadata": {},
     "output_type": "execute_result"
    }
   ],
   "source": [
    "type(add(2,3))"
   ]
  },
  {
   "cell_type": "code",
   "execution_count": 73,
   "id": "5d4b76f1",
   "metadata": {},
   "outputs": [
    {
     "name": "stdout",
     "output_type": "stream",
     "text": [
      "7\n"
     ]
    }
   ],
   "source": [
    "\n",
    "add(3,4)"
   ]
  },
  {
   "cell_type": "code",
   "execution_count": 86,
   "id": "5155ec99",
   "metadata": {},
   "outputs": [],
   "source": [
    "def add(num_1,num_2):\n",
    "    sum_ = num_1 + num_2\n",
    "    return sum_"
   ]
  },
  {
   "cell_type": "code",
   "execution_count": 88,
   "id": "e0072b05",
   "metadata": {},
   "outputs": [
    {
     "data": {
      "text/plain": [
       "5"
      ]
     },
     "execution_count": 88,
     "metadata": {},
     "output_type": "execute_result"
    }
   ],
   "source": [
    "x = add(2,3)\n",
    "x"
   ]
  },
  {
   "cell_type": "code",
   "execution_count": 78,
   "id": "183d2857",
   "metadata": {},
   "outputs": [],
   "source": [
    "x = \"10\"\n",
    "y = int(x)"
   ]
  },
  {
   "cell_type": "code",
   "execution_count": 79,
   "id": "867d94fd",
   "metadata": {},
   "outputs": [
    {
     "data": {
      "text/plain": [
       "10"
      ]
     },
     "execution_count": 79,
     "metadata": {},
     "output_type": "execute_result"
    }
   ],
   "source": [
    "y"
   ]
  },
  {
   "cell_type": "code",
   "execution_count": 89,
   "id": "cfe5a9ce",
   "metadata": {},
   "outputs": [],
   "source": [
    "def add(num_1,num_2):\n",
    "    sum_ = num_1 + num_2\n",
    "    return sum_"
   ]
  },
  {
   "cell_type": "code",
   "execution_count": 90,
   "id": "02a2edcd",
   "metadata": {},
   "outputs": [
    {
     "ename": "TypeError",
     "evalue": "add() missing 1 required positional argument: 'num_2'",
     "output_type": "error",
     "traceback": [
      "\u001b[1;31m---------------------------------------------------------------------------\u001b[0m",
      "\u001b[1;31mTypeError\u001b[0m                                 Traceback (most recent call last)",
      "\u001b[1;32m<ipython-input-90-093500e515b5>\u001b[0m in \u001b[0;36m<module>\u001b[1;34m\u001b[0m\n\u001b[1;32m----> 1\u001b[1;33m \u001b[0mx\u001b[0m \u001b[1;33m=\u001b[0m \u001b[0madd\u001b[0m\u001b[1;33m(\u001b[0m\u001b[1;36m5\u001b[0m\u001b[1;33m)\u001b[0m\u001b[1;33m\u001b[0m\u001b[1;33m\u001b[0m\u001b[0m\n\u001b[0m\u001b[0;32m      2\u001b[0m \u001b[0mx\u001b[0m\u001b[1;33m\u001b[0m\u001b[1;33m\u001b[0m\u001b[0m\n",
      "\u001b[1;31mTypeError\u001b[0m: add() missing 1 required positional argument: 'num_2'"
     ]
    }
   ],
   "source": [
    "x = add(5)\n",
    "x"
   ]
  },
  {
   "cell_type": "code",
   "execution_count": 92,
   "id": "627ffc9d",
   "metadata": {},
   "outputs": [],
   "source": [
    "def add(num_1,num_2 = 0):\n",
    "    sum_ = num_1 + num_2\n",
    "    return sum_"
   ]
  },
  {
   "cell_type": "code",
   "execution_count": 94,
   "id": "e650de83",
   "metadata": {},
   "outputs": [
    {
     "data": {
      "text/plain": [
       "7"
      ]
     },
     "execution_count": 94,
     "metadata": {},
     "output_type": "execute_result"
    }
   ],
   "source": [
    "x = add(5,2)\n",
    "x"
   ]
  },
  {
   "cell_type": "code",
   "execution_count": 108,
   "id": "caa0ee59",
   "metadata": {},
   "outputs": [],
   "source": [
    "def add(*args):\n",
    "    sum_ = 0\n",
    "    for i in args: \n",
    "        sum_ = sum_+ i\n",
    "    return sum_        "
   ]
  },
  {
   "cell_type": "code",
   "execution_count": 110,
   "id": "03890e4e",
   "metadata": {},
   "outputs": [
    {
     "data": {
      "text/plain": [
       "43"
      ]
     },
     "execution_count": 110,
     "metadata": {},
     "output_type": "execute_result"
    }
   ],
   "source": [
    "add(1,2,3,4,5,3,4,5,6,3,3,4)"
   ]
  },
  {
   "cell_type": "code",
   "execution_count": 111,
   "id": "e13dabbb",
   "metadata": {},
   "outputs": [],
   "source": [
    "\n",
    "def add_num(lst):\n",
    "    sum_ =  0 \n",
    "    for i in lst: \n",
    "        sum_ = sum_ + i \n",
    "    return sum_"
   ]
  },
  {
   "cell_type": "code",
   "execution_count": 112,
   "id": "df60cf3e",
   "metadata": {},
   "outputs": [
    {
     "data": {
      "text/plain": [
       "21"
      ]
     },
     "execution_count": 112,
     "metadata": {},
     "output_type": "execute_result"
    }
   ],
   "source": [
    "add_num([1,2,3,4,5,6])"
   ]
  },
  {
   "cell_type": "code",
   "execution_count": 114,
   "id": "c26e1b9d",
   "metadata": {},
   "outputs": [],
   "source": [
    "# sys \n",
    "# ui input \n",
    "# math oprations or age \n",
    "# ______________________"
   ]
  },
  {
   "cell_type": "code",
   "execution_count": 1,
   "id": "686d289d",
   "metadata": {},
   "outputs": [],
   "source": [
    "def math_add(args):\n",
    "    sum_ = 0\n",
    "    for i in args: \n",
    "        sum_ = sum_+ i\n",
    "    return sum_    \n",
    "\n",
    "def math_sub(args):\n",
    "    sub =0\n",
    "    for i in args: \n",
    "        sub = sub- i\n",
    "    return sub\n",
    "\n",
    "def math_mul(args):\n",
    "    mul = 1\n",
    "    for i in args: \n",
    "        mul = mul * i\n",
    "    return mul\n",
    "\n",
    "def math_devide(args):\n",
    "    devide = 1\n",
    "    for i in args: \n",
    "        devide = devide / i\n",
    "    return devide\n",
    "\n",
    "def count_age(year):\n",
    "    age = 2023 - year\n",
    "    return age \n"
   ]
  },
  {
   "cell_type": "code",
   "execution_count": 2,
   "id": "402ef71a",
   "metadata": {},
   "outputs": [],
   "source": [
    "def UI_fun():\n",
    "    selection = int(input(\"for math opration [1], for count age [2]\"))\n",
    "    if selection == 1 :\n",
    "        math_selection = input(\"enter math opration [+,-,*,/]\")\n",
    "        if math_selection == \"+\":\n",
    "            nums = int(input(\"nums numpers: \"))\n",
    "            nums_lst = []\n",
    "            for i in range(0,nums):\n",
    "                in_ = int(input(\"enter num: \"))\n",
    "                nums_lst.append(in_)\n",
    "            sum_ = math_add(nums_lst)\n",
    "            print(sum_)\n",
    "            UI_fun()\n",
    "        elif math_selection == \"-\":\n",
    "            nums = int(input(\"nums numpers: \"))\n",
    "            nums_lst = []\n",
    "            for i in range(0,nums):\n",
    "                in_ = int(input(\"enter num: \"))\n",
    "                nums_lst.append(in_)\n",
    "            sub = math_sub(nums_lst)\n",
    "            print(sub)\n",
    "            UI_fun()\n",
    "        elif math_selection == \"*\":\n",
    "            nums = int(input(\"nums numpers: \"))\n",
    "            nums_lst = []\n",
    "            for i in range(0,nums):\n",
    "                in_ = int(input(\"enter num: \"))\n",
    "                nums_lst.append(in_)\n",
    "            sub = math_mul(nums_lst)\n",
    "            print(sub)\n",
    "            UI_fun()\n",
    "        elif math_selection == \"/\":\n",
    "            nums = int(input(\"nums numpers: \"))\n",
    "            nums_lst = []\n",
    "            for i in range(0,nums):\n",
    "                in_ = int(input(\"enter num: \"))\n",
    "                nums_lst.append(in_)\n",
    "            sub = math_devide(nums_lst)\n",
    "            print(sub)\n",
    "            UI_fun()\n",
    "    elif selection == 2 : \n",
    "        year = int(input(\"enter your perth year: \"))\n",
    "        age = count_age(year)\n",
    "        print(age)\n",
    "        UI_fun()\n",
    "    else: \n",
    "        print(\"invalid selectioin\")\n",
    "        UI_fun()"
   ]
  },
  {
   "cell_type": "code",
   "execution_count": null,
   "id": "9bf3aec0",
   "metadata": {},
   "outputs": [
    {
     "name": "stdout",
     "output_type": "stream",
     "text": [
      "for math opration [1], for count age [2]1\n",
      "enter math opration [+,-,*,/]*\n",
      "nums numpers: 3\n",
      "enter num: 5\n",
      "enter num: 6\n",
      "enter num: 8\n",
      "240\n"
     ]
    }
   ],
   "source": [
    "UI_fun()"
   ]
  },
  {
   "cell_type": "code",
   "execution_count": 118,
   "id": "f7bcbae7",
   "metadata": {},
   "outputs": [
    {
     "data": {
      "text/plain": [
       "'(1, 2, 3, 4)'"
      ]
     },
     "execution_count": 118,
     "metadata": {},
     "output_type": "execute_result"
    }
   ],
   "source": []
  },
  {
   "cell_type": "code",
   "execution_count": 121,
   "id": "a251a623",
   "metadata": {},
   "outputs": [],
   "source": [
    "x = tuple(y)"
   ]
  },
  {
   "cell_type": "code",
   "execution_count": 122,
   "id": "493d0685",
   "metadata": {},
   "outputs": [
    {
     "data": {
      "text/plain": [
       "('(', '1', ',', ' ', '2', ',', ' ', '3', ',', ' ', '4', ')')"
      ]
     },
     "execution_count": 122,
     "metadata": {},
     "output_type": "execute_result"
    }
   ],
   "source": [
    "x"
   ]
  },
  {
   "cell_type": "code",
   "execution_count": null,
   "id": "d59d813d",
   "metadata": {},
   "outputs": [],
   "source": [
    "import plotly.graph_objects as go\n",
    "from plotly.subplots import make_subplots\n",
    "\n",
    "labels = [\"US\", \"China\", \"European Union\", \"Russian Federation\", \"Brazil\", \"India\",\n",
    "          \"Rest of World\"]\n",
    "\n",
    "# Create subplots: use 'domain' type for Pie subplot\n",
    "fig = make_subplots(rows=1, cols=2, specs=[[{'type':'domain'}, {'type':'domain'}]])\n",
    "fig.add_trace(go.Pie(labels=labels, values=[16, 15, 12, 6, 5, 4, 42], name=\"GHG Emissions\"),\n",
    "              1, 1)\n",
    "fig.add_trace(go.Pie(labels=labels, values=[27, 11, 25, 8, 1, 3, 25], name=\"CO2 Emissions\"),\n",
    "              1, 2)\n",
    "\n",
    "# Use `hole` to create a donut-like pie chart\n",
    "fig.update_traces(hole=.4, hoverinfo=\"label+percent+name\")\n",
    "\n",
    "fig.update_layout(\n",
    "    title_text=\"Global Emissions 1990-2011\",\n",
    "    # Add annotations in the center of the donut pies.\n",
    "    annotations=[dict(text='GHG', x=0.18, y=0.5, font_size=20, showarrow=False),\n",
    "                 dict(text='CO2', x=0.82, y=0.5, font_size=20, showarrow=False)])\n",
    "fig.show()"
   ]
  }
 ],
 "metadata": {
  "kernelspec": {
   "display_name": "Python 3",
   "language": "python",
   "name": "python3"
  },
  "language_info": {
   "codemirror_mode": {
    "name": "ipython",
    "version": 3
   },
   "file_extension": ".py",
   "mimetype": "text/x-python",
   "name": "python",
   "nbconvert_exporter": "python",
   "pygments_lexer": "ipython3",
   "version": "3.8.8"
  }
 },
 "nbformat": 4,
 "nbformat_minor": 5
}
